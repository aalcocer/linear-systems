{
 "cells": [
  {
   "cell_type": "code",
   "execution_count": 16,
   "metadata": {
    "collapsed": false
   },
   "outputs": [],
   "source": [
    "%matplotlib inline\n",
    "\n",
    "import matplotlib\n",
    "import numpy as np\n",
    "import sympy\n",
    "import control \n",
    "\n",
    "#sympy.init_printing()\n",
    "sympy.init_printing(use_latex='mathjax')\n",
    "\n",
    "\n",
    "\n"
   ]
  },
  {
   "cell_type": "code",
   "execution_count": 17,
   "metadata": {
    "collapsed": true
   },
   "outputs": [],
   "source": [
    "s = sympy.Symbol('s')\n",
    "R1 = sympy.Symbol('R1')\n",
    "R2 = sympy.Symbol('R2')\n",
    "R3 = sympy.Symbol('R3')\n",
    "vin = sympy.Symbol('vin')\n"
   ]
  },
  {
   "cell_type": "code",
   "execution_count": 18,
   "metadata": {
    "collapsed": false
   },
   "outputs": [
    {
     "data": {
      "text/plain": [
       "Matrix([\n",
       "[ 1, -1, -1],\n",
       "[R1, R2,  0],\n",
       "[R1,  0, R3]])"
      ]
     },
     "execution_count": 18,
     "metadata": {},
     "output_type": "execute_result"
    }
   ],
   "source": [
    "A = sympy.Matrix([[1,-1,-1],[R1,R2,0],[R1,0,R3]])\n",
    "A"
   ]
  },
  {
   "cell_type": "code",
   "execution_count": 19,
   "metadata": {
    "collapsed": false
   },
   "outputs": [
    {
     "data": {
      "text/plain": [
       "Matrix([\n",
       "[-R1/(R1 + R2) - (R1 + R2)*(R1/(R1 + R2) - 1)*(R1**2/(R1 + R2) - R1)/(-R1**2 + (R1 + R2)*(R1 + R3)) + 1, R1*(R1/(R1 + R2) - 1)/(-R1**2 + (R1 + R2)*(R1 + R3)) + 1/(R1 + R2), -(R1 + R2)*(R1/(R1 + R2) - 1)/(-R1**2 + (R1 + R2)*(R1 + R3))],\n",
       "[                              -R1*(R1**2/(R1 + R2) - R1)/(-R1**2 + (R1 + R2)*(R1 + R3)) - R1/(R1 + R2),     R1**2/((R1 + R2)*(-R1**2 + (R1 + R2)*(R1 + R3))) + 1/(R1 + R2),                           -R1/(-R1**2 + (R1 + R2)*(R1 + R3))],\n",
       "[                                       (R1 + R2)*(R1**2/(R1 + R2) - R1)/(-R1**2 + (R1 + R2)*(R1 + R3)),                                 -R1/(-R1**2 + (R1 + R2)*(R1 + R3)),                     (R1 + R2)/(-R1**2 + (R1 + R2)*(R1 + R3))]])"
      ]
     },
     "execution_count": 19,
     "metadata": {},
     "output_type": "execute_result"
    }
   ],
   "source": [
    "Ain = A.inv()\n",
    "Ain"
   ]
  },
  {
   "cell_type": "code",
   "execution_count": 20,
   "metadata": {
    "collapsed": false
   },
   "outputs": [
    {
     "data": {
      "text/plain": [
       "Matrix([\n",
       "[-vin*(R1 + R2)*(R1/(R1 + R2) - 1)/(-R1**2 + (R1 + R2)*(R1 + R3)) + vin*(R1*(R1/(R1 + R2) - 1)/(-R1**2 + (R1 + R2)*(R1 + R3)) + 1/(R1 + R2))],\n",
       "[                              -R1*vin/(-R1**2 + (R1 + R2)*(R1 + R3)) + vin*(R1**2/((R1 + R2)*(-R1**2 + (R1 + R2)*(R1 + R3))) + 1/(R1 + R2))],\n",
       "[                                                      -R1*vin/(-R1**2 + (R1 + R2)*(R1 + R3)) + vin*(R1 + R2)/(-R1**2 + (R1 + R2)*(R1 + R3))]])"
      ]
     },
     "execution_count": 20,
     "metadata": {},
     "output_type": "execute_result"
    }
   ],
   "source": [
    "I = A.inv()*sympy.Matrix([0,vin,vin])\n",
    "I"
   ]
  },
  {
   "cell_type": "code",
   "execution_count": 21,
   "metadata": {
    "collapsed": false
   },
   "outputs": [
    {
     "data": {
      "text/plain": [
       "Matrix([\n",
       "[vin*(R2 + R3)/(R1*R2 + R1*R3 + R2*R3)],\n",
       "[       R3*vin/(R1*R2 + R1*R3 + R2*R3)],\n",
       "[       R2*vin/(R1*R2 + R1*R3 + R2*R3)]])"
      ]
     },
     "execution_count": 21,
     "metadata": {},
     "output_type": "execute_result"
    }
   ],
   "source": [
    "I.simplify()\n",
    "I"
   ]
  },
  {
   "cell_type": "code",
   "execution_count": 22,
   "metadata": {
    "collapsed": false
   },
   "outputs": [
    {
     "data": {
      "text/plain": [
       "Matrix([\n",
       "[      R2*R3/(R1*R2 + R1*R3 + R2*R3),        R3/(R1*R2 + R1*R3 + R2*R3),        R2/(R1*R2 + R1*R3 + R2*R3)],\n",
       "[     -R1*R3/(R1*R2 + R1*R3 + R2*R3), (R1 + R3)/(R1*R2 + R1*R3 + R2*R3),  R1/(R1**2 - (R1 + R2)*(R1 + R3))],\n",
       "[R1*R2/(R1**2 - (R1 + R2)*(R1 + R3)),  R1/(R1**2 - (R1 + R2)*(R1 + R3)), (R1 + R2)/(R1*R2 + R1*R3 + R2*R3)]])"
      ]
     },
     "execution_count": 22,
     "metadata": {},
     "output_type": "execute_result"
    }
   ],
   "source": [
    "Ain.simplify()\n",
    "Ain"
   ]
  },
  {
   "cell_type": "code",
   "execution_count": null,
   "metadata": {
    "collapsed": true
   },
   "outputs": [],
   "source": []
  }
 ],
 "metadata": {
  "kernelspec": {
   "display_name": "Python 3",
   "language": "python",
   "name": "python3"
  },
  "language_info": {
   "codemirror_mode": {
    "name": "ipython",
    "version": 3
   },
   "file_extension": ".py",
   "mimetype": "text/x-python",
   "name": "python",
   "nbconvert_exporter": "python",
   "pygments_lexer": "ipython3",
   "version": "3.4.3"
  }
 },
 "nbformat": 4,
 "nbformat_minor": 0
}
