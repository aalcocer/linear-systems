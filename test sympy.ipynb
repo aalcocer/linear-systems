{
 "cells": [
  {
   "cell_type": "code",
<<<<<<< HEAD
   "execution_count": 16,
=======
   "execution_count": 21,
>>>>>>> origin/master
   "metadata": {
    "collapsed": false
   },
   "outputs": [],
   "source": [
    "%matplotlib inline\n",
    "\n",
    "import matplotlib\n",
    "import numpy as np\n",
    "import sympy\n",
<<<<<<< HEAD
    "import control \n",
    "\n",
    "#sympy.init_printing()\n",
    "sympy.init_printing(use_latex='mathjax')\n",
    "\n",
    "\n",
    "\n"
=======
    "import sympy\n",
    "import numpy \n",
    "import control \n",
    "\n",
    "sympy.init_printing()\n",
    "s = Symbol('s')"
>>>>>>> origin/master
   ]
  },
  {
   "cell_type": "code",
<<<<<<< HEAD
   "execution_count": 17,
   "metadata": {
    "collapsed": true
   },
   "outputs": [],
   "source": [
    "s = sympy.Symbol('s')\n",
    "R1 = sympy.Symbol('R1')\n",
    "R2 = sympy.Symbol('R2')\n",
    "R3 = sympy.Symbol('R3')\n",
    "vin = sympy.Symbol('vin')\n"
   ]
  },
  {
   "cell_type": "code",
   "execution_count": 18,
   "metadata": {
    "collapsed": false
   },
   "outputs": [
    {
     "data": {
      "text/plain": [
       "Matrix([\n",
       "[ 1, -1, -1],\n",
       "[R1, R2,  0],\n",
       "[R1,  0, R3]])"
      ]
     },
     "execution_count": 18,
     "metadata": {},
     "output_type": "execute_result"
    }
   ],
   "source": [
    "A = sympy.Matrix([[1,-1,-1],[R1,R2,0],[R1,0,R3]])\n",
    "A"
=======
   "execution_count": 22,
   "metadata": {
    "collapsed": false
   },
   "outputs": [],
   "source": [
    "M = sympy.Matrix(((1,s),(s-1,s)));"
>>>>>>> origin/master
   ]
  },
  {
   "cell_type": "code",
<<<<<<< HEAD
   "execution_count": 19,
   "metadata": {
    "collapsed": false
   },
   "outputs": [
    {
     "data": {
      "text/plain": [
       "Matrix([\n",
       "[-R1/(R1 + R2) - (R1 + R2)*(R1/(R1 + R2) - 1)*(R1**2/(R1 + R2) - R1)/(-R1**2 + (R1 + R2)*(R1 + R3)) + 1, R1*(R1/(R1 + R2) - 1)/(-R1**2 + (R1 + R2)*(R1 + R3)) + 1/(R1 + R2), -(R1 + R2)*(R1/(R1 + R2) - 1)/(-R1**2 + (R1 + R2)*(R1 + R3))],\n",
       "[                              -R1*(R1**2/(R1 + R2) - R1)/(-R1**2 + (R1 + R2)*(R1 + R3)) - R1/(R1 + R2),     R1**2/((R1 + R2)*(-R1**2 + (R1 + R2)*(R1 + R3))) + 1/(R1 + R2),                           -R1/(-R1**2 + (R1 + R2)*(R1 + R3))],\n",
       "[                                       (R1 + R2)*(R1**2/(R1 + R2) - R1)/(-R1**2 + (R1 + R2)*(R1 + R3)),                                 -R1/(-R1**2 + (R1 + R2)*(R1 + R3)),                     (R1 + R2)/(-R1**2 + (R1 + R2)*(R1 + R3))]])"
      ]
     },
     "execution_count": 19,
     "metadata": {},
     "output_type": "execute_result"
    }
   ],
   "source": [
    "Ain = A.inv()\n",
    "Ain"
=======
   "execution_count": null,
   "metadata": {
    "collapsed": false
   },
   "outputs": [],
   "source": [
    "M"
>>>>>>> origin/master
   ]
  },
  {
   "cell_type": "code",
<<<<<<< HEAD
   "execution_count": 20,
=======
   "execution_count": 23,
>>>>>>> origin/master
   "metadata": {
    "collapsed": false
   },
   "outputs": [
    {
     "data": {
      "text/plain": [
       "Matrix([\n",
<<<<<<< HEAD
       "[-vin*(R1 + R2)*(R1/(R1 + R2) - 1)/(-R1**2 + (R1 + R2)*(R1 + R3)) + vin*(R1*(R1/(R1 + R2) - 1)/(-R1**2 + (R1 + R2)*(R1 + R3)) + 1/(R1 + R2))],\n",
       "[                              -R1*vin/(-R1**2 + (R1 + R2)*(R1 + R3)) + vin*(R1**2/((R1 + R2)*(-R1**2 + (R1 + R2)*(R1 + R3))) + 1/(R1 + R2))],\n",
       "[                                                      -R1*vin/(-R1**2 + (R1 + R2)*(R1 + R3)) + vin*(R1 + R2)/(-R1**2 + (R1 + R2)*(R1 + R3))]])"
      ]
     },
     "execution_count": 20,
=======
       "[-(-s + 1)/(-s + 2) + 1,    -1/(-s + 2)],\n",
       "[ (-s + 1)/(s*(-s + 2)), 1/(s*(-s + 2))]])"
      ]
     },
     "execution_count": 23,
>>>>>>> origin/master
     "metadata": {},
     "output_type": "execute_result"
    }
   ],
   "source": [
<<<<<<< HEAD
    "I = A.inv()*sympy.Matrix([0,vin,vin])\n",
    "I"
=======
    "Minv = M.inv()\n",
    "Minv\n"
>>>>>>> origin/master
   ]
  },
  {
   "cell_type": "code",
<<<<<<< HEAD
   "execution_count": 21,
=======
   "execution_count": 24,
>>>>>>> origin/master
   "metadata": {
    "collapsed": false
   },
   "outputs": [
    {
     "data": {
      "text/plain": [
       "Matrix([\n",
<<<<<<< HEAD
       "[vin*(R2 + R3)/(R1*R2 + R1*R3 + R2*R3)],\n",
       "[       R3*vin/(R1*R2 + R1*R3 + R2*R3)],\n",
       "[       R2*vin/(R1*R2 + R1*R3 + R2*R3)]])"
      ]
     },
     "execution_count": 21,
=======
       "[    1, s, 0],\n",
       "[s - 1, s, 0],\n",
       "[    0, 1, 1]])"
      ]
     },
     "execution_count": 24,
>>>>>>> origin/master
     "metadata": {},
     "output_type": "execute_result"
    }
   ],
   "source": [
<<<<<<< HEAD
    "I.simplify()\n",
    "I"
=======
    "M = sympy.Matrix(((1,s,0),(s-1,s,0),(0,1,1)))\n",
    "M"
>>>>>>> origin/master
   ]
  },
  {
   "cell_type": "code",
<<<<<<< HEAD
   "execution_count": 22,
=======
   "execution_count": 25,
>>>>>>> origin/master
   "metadata": {
    "collapsed": false
   },
   "outputs": [
    {
     "data": {
      "text/plain": [
       "Matrix([\n",
<<<<<<< HEAD
       "[      R2*R3/(R1*R2 + R1*R3 + R2*R3),        R3/(R1*R2 + R1*R3 + R2*R3),        R2/(R1*R2 + R1*R3 + R2*R3)],\n",
       "[     -R1*R3/(R1*R2 + R1*R3 + R2*R3), (R1 + R3)/(R1*R2 + R1*R3 + R2*R3),  R1/(R1**2 - (R1 + R2)*(R1 + R3))],\n",
       "[R1*R2/(R1**2 - (R1 + R2)*(R1 + R3)),  R1/(R1**2 - (R1 + R2)*(R1 + R3)), (R1 + R2)/(R1*R2 + R1*R3 + R2*R3)]])"
      ]
     },
     "execution_count": 22,
=======
       "[-(-s + 1)/(-s + 2) + 1,     -1/(-s + 2), 0],\n",
       "[ (-s + 1)/(s*(-s + 2)),  1/(s*(-s + 2)), 0],\n",
       "[-(-s + 1)/(s*(-s + 2)), -1/(s*(-s + 2)), 1]])"
      ]
     },
     "execution_count": 25,
>>>>>>> origin/master
     "metadata": {},
     "output_type": "execute_result"
    }
   ],
   "source": [
<<<<<<< HEAD
    "Ain.simplify()\n",
    "Ain"
=======
    "Minv = M.inv()\n",
    "Minv"
>>>>>>> origin/master
   ]
  },
  {
   "cell_type": "code",
   "execution_count": null,
   "metadata": {
    "collapsed": true
   },
   "outputs": [],
   "source": []
  }
 ],
 "metadata": {
  "kernelspec": {
<<<<<<< HEAD
   "display_name": "Python 3",
   "language": "python",
   "name": "python3"
=======
   "display_name": "Python 2",
   "language": "python",
   "name": "python2"
>>>>>>> origin/master
  },
  "language_info": {
   "codemirror_mode": {
    "name": "ipython",
<<<<<<< HEAD
    "version": 3
=======
    "version": 2
>>>>>>> origin/master
   },
   "file_extension": ".py",
   "mimetype": "text/x-python",
   "name": "python",
   "nbconvert_exporter": "python",
<<<<<<< HEAD
   "pygments_lexer": "ipython3",
   "version": "3.4.3"
=======
   "pygments_lexer": "ipython2",
   "version": "2.7.9"
>>>>>>> origin/master
  }
 },
 "nbformat": 4,
 "nbformat_minor": 0
}
